{
 "cells": [
  {
   "cell_type": "code",
   "execution_count": 1,
   "metadata": {},
   "outputs": [],
   "source": [
    "import BloomClassify as BC\n",
    "import LSIsimilarity\n",
    "from baseline import Baseline\n",
    "import os\n",
    "import languageProcess as lp\n",
    "import matplotlib.pyplot as plt\n",
    "import numpy as np"
   ]
  },
  {
   "cell_type": "code",
   "execution_count": null,
   "metadata": {},
   "outputs": [],
   "source": [
    "LSIs = LSIsimilarity.LSIsimilarity()\n",
    "CL = BC.BloomClassify(prct = 50, art = 50, baselineFolder=\"../Baseline/50/plaindata\")\n",
    "\n",
    "def loadModels():\n",
    "    LSIs.train(basepath=\"../Baseline/1000/plaindata\",noOfTrainArticle=1000)\n",
    "    CL.load_BL()\n",
    "\n",
    "def checkArticle(title):\n",
    "    #title ='Football'\n",
    "    # check if Validationfolder exists\n",
    "    if not os.path.exists(\"../Validation\"): os.mkdir(\"../Validation\")\n",
    "\n",
    "    # get article from wikipedia API\n",
    "    Base = Baseline(folder=\"Validation\")\n",
    "    filename = \"../Validation/\"+title.replace(' ','')+\"_raw.txt\"\n",
    "    with open(filename, 'w') as the_file:\n",
    "        the_file.write(Base.get_dumptext([title]))\n",
    "\n",
    "    #convert to plain text\n",
    "    os.system(\"../wikiextractor/WikiExtractor.py \"+\"../Validation/\"+title.replace(' ','')+\"_raw.txt\"+\" -o\"+\" ../Validation/\"+title.replace(' ','')+\"/ --json\")\n",
    "\n",
    "    #housekeeping\n",
    "    category = os.listdir(\"../Validation\")\n",
    "    if '.DS_Store' in category: category.remove('.DS_Store')\n",
    "\n",
    "    #languageProcess\n",
    "    filepath = \"../Validation/\"+title.replace(' ','')+\"/AA/wiki_00\"\n",
    "    bfarticle = lp.languageProcess(filepath).getHighFreqWords()\n",
    "    lsiarticle = lp.languageProcess(filepath)\n",
    "\n",
    "    #BloomFilter\n",
    "    vali_dict = {}\n",
    "    numOfCheckWords = 100\n",
    "\n",
    "    for cat in CL.BFdict.keys():\n",
    "        vali_dict[cat] = sum([1 for word in bfarticle[0].most_common(numOfCheckWords) if CL.BFdict[cat].classify(word[0])])/numOfCheckWords\n",
    "\n",
    "    #Rewrite to return LSIres and BFres\n",
    "    return LSIs.compare(lsiarticle.getWords()), vali_dict\n",
    "\n",
    "def plotGraph(resLSI,resBF):\n",
    "    ind = np.arange(len(resLSI))    # the x locations for the groups\n",
    "    width = 0.2         # the width of the bars\n",
    "\n",
    "    fig, ax = plt.subplots(figsize=(11,5))\n",
    "\n",
    "    p1 = ax.bar(ind-width/2,list(resLSI.values()),width, align='center',color='dodgerblue')\n",
    "    p2 = ax.bar(ind+width/2,list(resBF.values()),width, align='center',color='darkorange')\n",
    "\n",
    "    ax.set_xticks(ind + width/2)\n",
    "    ax.set_xticklabels(list(resLSI.keys()),rotation='vertical')\n",
    "    ax.legend((p1[0], p2[0]), ('LSI1000','bloomfilter+tfidf'))\n",
    "    ax.set_ylim([0,1])\n",
    "    ax.set_ylabel('right assigned articles')\n",
    "    ax.grid()\n",
    "    plt.tight_layout()\n",
    "\n",
    "    plt.show()\n",
    "\n",
    "def main():\n",
    "    loadModels()\n",
    "    x=0\n",
    "    while x<1:\n",
    "        title = input(\"Insert Article name: \")\n",
    "        #is title? exception\n",
    "        print(title)\n",
    "        resLSI, resBF = checkArticle(title)\n",
    "        #placeholder resLSI for resBF\n",
    "        plotGraph(resLSI,resBF)\n",
    "        x+=1\n",
    "    pass\n"
   ]
  },
  {
   "cell_type": "code",
   "execution_count": null,
   "metadata": {},
   "outputs": [],
   "source": [
    "main()"
   ]
  },
  {
   "cell_type": "code",
   "execution_count": null,
   "metadata": {},
   "outputs": [],
   "source": []
  }
 ],
 "metadata": {
  "kernelspec": {
   "display_name": "Python 3",
   "language": "python",
   "name": "python3"
  },
  "language_info": {
   "codemirror_mode": {
    "name": "ipython",
    "version": 3
   },
   "file_extension": ".py",
   "mimetype": "text/x-python",
   "name": "python",
   "nbconvert_exporter": "python",
   "pygments_lexer": "ipython3",
   "version": "3.6.5"
  }
 },
 "nbformat": 4,
 "nbformat_minor": 2
}
