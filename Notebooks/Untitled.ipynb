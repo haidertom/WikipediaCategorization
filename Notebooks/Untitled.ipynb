{
 "cells": [
  {
   "cell_type": "code",
   "execution_count": 14,
   "metadata": {},
   "outputs": [],
   "source": [
    "import sys\n",
    "sys.path.append('../Scripts')\n",
    "import BloomClassify as BC\n",
    "import LSIsimilarity\n",
    "from baseline import Baseline\n",
    "import os\n",
    "import languageProcess as lp"
   ]
  },
  {
   "cell_type": "code",
   "execution_count": 11,
   "metadata": {},
   "outputs": [],
   "source": [
    "LSIs = LSIsimilarity.LSIsimilarity()\n",
    "CL = BC.BloomClassify(num = 20,baselineFolder=\"../RandomBaseline/plaindata\")"
   ]
  },
  {
   "cell_type": "code",
   "execution_count": 12,
   "metadata": {},
   "outputs": [],
   "source": [
    "#training with predefined models\n",
    "LSIs.train(basepath=\"../Baseline/1000/plaindata\")\n",
    "\n",
    "#CL.get_tfidf()\n",
    "#CL.train_BL(mfw = 0, tfidf = 1)\n",
    "#CL.save_BL()\n"
   ]
  },
  {
   "cell_type": "code",
   "execution_count": 24,
   "metadata": {},
   "outputs": [
    {
     "name": "stdout",
     "output_type": "stream",
     "text": [
      "LanguageProcess.py: path does not exist\n"
     ]
    }
   ],
   "source": [
    "title ='Football'\n",
    "Base = Baseline(folder=\"Validation\",  baseline_number = 1)\n",
    "\n",
    "if not os.path.exists(\"../Validation\"):\n",
    "    os.mkdir(\"../Validation\")\n",
    "\n",
    "filename = \"../Validation/\"+\"raw.txt\"\n",
    "with open(filename, 'w') as the_file:\n",
    "    the_file.write(Base.get_dumptext(title)[0])\n",
    "os.system(\"../wikiextractor/WikiExtractor.py \"+\"../Validation/\"+\"raw\"+\" -o\"+\" ../Validation\"+\" --json\")\n",
    "category = os.listdir(\"../Validation\")\n",
    "if '.DS_Store' in category:\n",
    "    category.remove('.DS_Store')\n",
    "category = category[0]\n",
    "filepath = \"../Validation/AA/wiki_00\"\n",
    "testarticle = lp.languageProcess(filepath)\n"
   ]
  },
  {
   "cell_type": "code",
   "execution_count": 22,
   "metadata": {},
   "outputs": [
    {
     "data": {
      "text/plain": [
       "{'Arts': 0.22975136,\n",
       " 'Humanities': 0.35904565,\n",
       " 'Technology': 0.21172093,\n",
       " 'Health': 0.16214773,\n",
       " 'Law': 0.087408364,\n",
       " 'Education': 0.17770377,\n",
       " 'Entertainment': 0.16287555,\n",
       " 'Business': 0.14816445,\n",
       " 'Science': 0.24367446,\n",
       " 'Mathematics': 0.17806327,\n",
       " 'World': 0.16836204,\n",
       " 'Society': 0.20598964,\n",
       " 'Language': 0.9317427,\n",
       " 'Life': 0.1768046,\n",
       " 'Nature': 0.1402688,\n",
       " 'Sports': 0.09921121,\n",
       " 'Politics': 0.1162505,\n",
       " 'Religion': 0.13348122,\n",
       " 'Philosophy': 0.16834529,\n",
       " 'People': 0.19108143,\n",
       " 'Concepts': 0.23072377,\n",
       " 'History': 0.253336,\n",
       " 'Events': 0.17394903,\n",
       " 'Universe': 0.07095808,\n",
       " 'Reference': 0.48339164,\n",
       " 'Geography': 0.1729885,\n",
       " 'Culture': 0.4717401}"
      ]
     },
     "execution_count": 22,
     "metadata": {},
     "output_type": "execute_result"
    }
   ],
   "source": [
    "res = LSIs.compare(testarticle.getWords())\n",
    "res"
   ]
  },
  {
   "cell_type": "code",
   "execution_count": 4,
   "metadata": {},
   "outputs": [
    {
     "name": "stdout",
     "output_type": "stream",
     "text": [
      "read document Nature_20_0.xml\n",
      "../Validation/plaindata/Nature/AA/wiki_00\n",
      "LanguageProcess.py: path does not exist\n"
     ]
    },
    {
     "ename": "IndexError",
     "evalue": "list index out of range",
     "output_type": "error",
     "traceback": [
      "\u001b[0;31m---------------------------------------------------------------------------\u001b[0m",
      "\u001b[0;31mIndexError\u001b[0m                                Traceback (most recent call last)",
      "\u001b[0;32m<ipython-input-4-ba30eebd9d59>\u001b[0m in \u001b[0;36m<module>\u001b[0;34m()\u001b[0m\n\u001b[1;32m      1\u001b[0m \u001b[0mtitle\u001b[0m \u001b[0;34m=\u001b[0m \u001b[0;34m\"Space\"\u001b[0m\u001b[0;34m\u001b[0m\u001b[0m\n\u001b[1;32m      2\u001b[0m \u001b[0mcategory\u001b[0m \u001b[0;34m=\u001b[0m \u001b[0;34m\"Category:Nature\"\u001b[0m\u001b[0;34m\u001b[0m\u001b[0m\n\u001b[0;32m----> 3\u001b[0;31m \u001b[0mvali_dict\u001b[0m \u001b[0;34m=\u001b[0m \u001b[0mCL\u001b[0m\u001b[0;34m.\u001b[0m\u001b[0mcheck_single_article\u001b[0m\u001b[0;34m(\u001b[0m\u001b[0mtitle\u001b[0m\u001b[0;34m,\u001b[0m \u001b[0mcategory\u001b[0m\u001b[0;34m)\u001b[0m\u001b[0;34m\u001b[0m\u001b[0m\n\u001b[0m\u001b[1;32m      4\u001b[0m \u001b[0;34m\u001b[0m\u001b[0m\n\u001b[1;32m      5\u001b[0m \u001b[0;32mfor\u001b[0m \u001b[0mkey\u001b[0m\u001b[0;34m,\u001b[0m\u001b[0mvalue\u001b[0m \u001b[0;32min\u001b[0m \u001b[0mvali_dict\u001b[0m\u001b[0;34m.\u001b[0m\u001b[0mitems\u001b[0m\u001b[0;34m(\u001b[0m\u001b[0;34m)\u001b[0m\u001b[0;34m:\u001b[0m\u001b[0;34m\u001b[0m\u001b[0m\n",
      "\u001b[0;32m~/DTU/ComputationToolsForDataScience/finalProject/WikipediaCategorization/Scripts/BloomClassify.py\u001b[0m in \u001b[0;36mcheck_single_article\u001b[0;34m(self, title, category)\u001b[0m\n\u001b[1;32m    251\u001b[0m                         \u001b[0mvali_dict\u001b[0m\u001b[0;34m[\u001b[0m\u001b[0mcat\u001b[0m\u001b[0;34m]\u001b[0m \u001b[0;34m=\u001b[0m \u001b[0;36m0\u001b[0m\u001b[0;34m\u001b[0m\u001b[0m\n\u001b[1;32m    252\u001b[0m \u001b[0;34m\u001b[0m\u001b[0m\n\u001b[0;32m--> 253\u001b[0;31m                         \u001b[0;32mfor\u001b[0m \u001b[0mword\u001b[0m \u001b[0;32min\u001b[0m \u001b[0mtestarticle\u001b[0m\u001b[0;34m[\u001b[0m\u001b[0;36m0\u001b[0m\u001b[0;34m]\u001b[0m\u001b[0;34m.\u001b[0m\u001b[0mmost_common\u001b[0m\u001b[0;34m(\u001b[0m\u001b[0mself\u001b[0m\u001b[0;34m.\u001b[0m\u001b[0mnum\u001b[0m\u001b[0;34m)\u001b[0m\u001b[0;34m:\u001b[0m\u001b[0;34m\u001b[0m\u001b[0m\n\u001b[0m\u001b[1;32m    254\u001b[0m                                 \u001b[0;32mif\u001b[0m \u001b[0;34m(\u001b[0m\u001b[0mself\u001b[0m\u001b[0;34m.\u001b[0m\u001b[0mBFdict\u001b[0m\u001b[0;34m[\u001b[0m\u001b[0mcat\u001b[0m\u001b[0;34m]\u001b[0m\u001b[0;34m.\u001b[0m\u001b[0mclassify\u001b[0m\u001b[0;34m(\u001b[0m\u001b[0mword\u001b[0m\u001b[0;34m[\u001b[0m\u001b[0;36m0\u001b[0m\u001b[0;34m]\u001b[0m\u001b[0;34m)\u001b[0m\u001b[0;34m)\u001b[0m\u001b[0;34m:\u001b[0m\u001b[0;34m\u001b[0m\u001b[0m\n\u001b[1;32m    255\u001b[0m                                                 \u001b[0mvali_dict\u001b[0m\u001b[0;34m[\u001b[0m\u001b[0mcat\u001b[0m\u001b[0;34m]\u001b[0m\u001b[0;34m+=\u001b[0m\u001b[0;36m1\u001b[0m\u001b[0;34m\u001b[0m\u001b[0m\n",
      "\u001b[0;31mIndexError\u001b[0m: list index out of range"
     ]
    }
   ],
   "source": [
    "title = \"Space\"\n",
    "category = \"Category:Nature\"\n",
    "vali_dict = CL.check_single_article(title, category)\n",
    "\n",
    "for key,value in vali_dict.items():\n",
    "    print(\"%-30s%-30f\"%(key, value/CL.num))\n"
   ]
  },
  {
   "cell_type": "code",
   "execution_count": null,
   "metadata": {},
   "outputs": [],
   "source": []
  },
  {
   "cell_type": "code",
   "execution_count": null,
   "metadata": {},
   "outputs": [],
   "source": []
  }
 ],
 "metadata": {
  "kernelspec": {
   "display_name": "Python 3",
   "language": "python",
   "name": "python3"
  },
  "language_info": {
   "codemirror_mode": {
    "name": "ipython",
    "version": 3
   },
   "file_extension": ".py",
   "mimetype": "text/x-python",
   "name": "python",
   "nbconvert_exporter": "python",
   "pygments_lexer": "ipython3",
   "version": "3.6.5"
  }
 },
 "nbformat": 4,
 "nbformat_minor": 2
}
