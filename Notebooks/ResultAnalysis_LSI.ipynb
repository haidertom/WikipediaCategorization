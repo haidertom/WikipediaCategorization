{
 "cells": [
  {
   "cell_type": "code",
   "execution_count": 1,
   "metadata": {},
   "outputs": [],
   "source": [
    "import matplotlib.pyplot as plt\n",
    "import pandas as pd\n",
    "import numpy as np"
   ]
  },
  {
   "cell_type": "code",
   "execution_count": 2,
   "metadata": {},
   "outputs": [],
   "source": [
    "tf1 = pd.read_csv('../TestResults/Test_Baseline_50_1000.csv')\n",
    "tf2 = pd.read_csv('../TestResults/Test_Baseline_1000_1000.csv')\n",
    "tf3 = pd.read_csv('../TestResults/Test_Baseline_5000_1000.csv')"
   ]
  },
  {
   "cell_type": "code",
   "execution_count": 3,
   "metadata": {},
   "outputs": [],
   "source": [
    "def renameCat(res):\n",
    "    res={key.split('_')[0]:val for key,val in res.items()}\n",
    "    return res"
   ]
  },
  {
   "cell_type": "code",
   "execution_count": 4,
   "metadata": {},
   "outputs": [
    {
     "name": "stdout",
     "output_type": "stream",
     "text": [
      "27\n",
      "27\n",
      "27\n"
     ]
    }
   ],
   "source": [
    "#False Positive testing\n",
    "#bloomfilter\n",
    "def calcHitpercentage(algo,tf):\n",
    "    bloom1 = tf.loc[tf['Algorithm']==algo]\n",
    "    categories=list(bloom1)[4:]\n",
    "    bloom1_cate=bloom1[categories]\n",
    "    bloom1['Max'] = bloom1_cate.idxmax(axis=1)\n",
    "    bloom1_res={}\n",
    "    for cat in categories:\n",
    "        bloom1_res[cat]=0\n",
    "    for index,rows in bloom1[['originalCategory','Max']].iterrows():\n",
    "        if rows['originalCategory'] not in bloom1_res:\n",
    "            bloom1_res[rows['originalCategory']]=0\n",
    "        if rows['originalCategory']== rows['Max']:\n",
    "            bloom1_res[rows['originalCategory']]+=1\n",
    "    print(len(list(bloom1_res.keys())))\n",
    "    #bloom1_res1={key: (val/len(bloom1.loc[bloom1['originalCategory']==key])) for key, val in bloom1_res.items() if val >0}\n",
    "    for key,val in bloom1_res.items():\n",
    "        if val >0:\n",
    "            bloom1_res[key]=val/len(bloom1.loc[bloom1['originalCategory']==key])\n",
    "    return bloom1_res\n",
    "res01=renameCat(calcHitpercentage('LSI',tf1))\n",
    "res02=renameCat(calcHitpercentage('LSI',tf2))\n",
    "res03=renameCat(calcHitpercentage('LSI',tf3))\n",
    "\n"
   ]
  },
  {
   "cell_type": "code",
   "execution_count": null,
   "metadata": {},
   "outputs": [],
   "source": [
    "def calcRangeHit(algo,tf):\n",
    "    a = tf.loc[tf['Algorithm']==algo]\n",
    "    categories=list(a)[4:]\n",
    "    a_cate=a[categories]\n",
    "    a['Max'] = a_cate.idxmax(axis=1)\n",
    "    a_res={}\n",
    "    for cat in categories:\n",
    "        a_res[cat]=0\n",
    "    for index,rows in a.iterrows():\n",
    "        max_val=rows[rows['Max']]\n",
    "        th_val=max_val*0.8\n",
    "        test = [col for col,val in rows[categories].iteritems() if val>=th_val]\n",
    "        #print(rows['originalCategory'],test)\n",
    "        if rows['originalCategory'] not in a_res:\n",
    "            a_res[rows['originalCategory']]=0\n",
    "        if rows['originalCategory'] in test:\n",
    "            a_res[rows['originalCategory']]+=1\n",
    "    for key,val in a_res.items():\n",
    "        if val >0:\n",
    "            a_res[key]=val/len(a.loc[a['originalCategory']==key])\n",
    "    return a_res"
   ]
  },
  {
   "cell_type": "code",
   "execution_count": null,
   "metadata": {},
   "outputs": [],
   "source": [
    "Rh_res01 = renameCat(calcRangeHit('LSI',tf1))\n",
    "Rh_res02 = renameCat(calcRangeHit('LSI',tf2))\n",
    "Rh_res03 = renameCat(calcRangeHit('LSI',tf3))\n",
    "\n"
   ]
  },
  {
   "cell_type": "code",
   "execution_count": null,
   "metadata": {},
   "outputs": [],
   "source": [
    "ind = np.arange(len(res01))    # the x locations for the groups\n",
    "width = 0.2       # the width of the bars\n",
    "\n",
    "fig, ax = plt.subplots(figsize=(11,5))\n",
    "\n",
    "\n",
    "\n",
    "p1 = ax.bar(ind-width,list(res01.values()),width, align='center',color='lightskyblue')\n",
    "p2 = ax.bar(ind,list(res02.values()),width, align='center',color='blue')\n",
    "p3 = ax.bar(ind+width,list(res03.values()),width, align='center',color='steelblue')\n",
    "\n",
    "\n",
    "\n",
    "ax.set_xticks(ind + width / 6)\n",
    "ax.set_xticklabels(list(res01.keys()),rotation='vertical')\n",
    "ax.legend((p1[0], p2[0], p3[0]), ('LSI_50', 'LSI_1000','LSI_5000%'))\n",
    "ax.set_ylim([0,1])\n",
    "ax.set_ylabel('right assigned articles')\n",
    "ax.grid()\n",
    "plt.tight_layout()\n",
    "plt.savefig('../TestResults/pics/accuracy_LSI.png',dpi=500)\n",
    "plt.show()"
   ]
  },
  {
   "cell_type": "code",
   "execution_count": null,
   "metadata": {},
   "outputs": [],
   "source": [
    "ind = np.arange(len(Rh_res01))    # the x locations for the groups\n",
    "width = 0.2       # the width of the bars\n",
    "\n",
    "fig, ax = plt.subplots(figsize=(11,5))\n",
    "\n",
    "\n",
    "\n",
    "p1 = ax.bar(ind-width,list(Rh_res01.values()),width, align='center',color='lightskyblue')\n",
    "p2 = ax.bar(ind,list(Rh_res02.values()),width, align='center',color='blue')\n",
    "p3 = ax.bar(ind+width,list(Rh_res03.values()),width, align='center',color='steelblue')\n",
    "\n",
    "\n",
    "\n",
    "ax.set_xticks(ind + width / 6)\n",
    "ax.set_xticklabels(list(Rh_res01.keys()),rotation='vertical')\n",
    "ax.legend((p1[0], p2[0], p3[0]), ('LSI_50', 'LSI_1000','LSI_5000%'))\n",
    "ax.set_ylim([0,1])\n",
    "ax.set_ylabel('right assigned articles')\n",
    "ax.grid()\n",
    "plt.tight_layout()\n",
    "plt.savefig('../TestResults/pics/accuracy_LSI_range.png',dpi=500)\n",
    "plt.show()"
   ]
  },
  {
   "cell_type": "code",
   "execution_count": null,
   "metadata": {},
   "outputs": [],
   "source": [
    "\n",
    "res_acc = np.array([[val for key,val in res01.items()],[val for key,val in res02.items()],[val for key,val in res03.items()]])\n",
    "print(res_acc.mean(axis=1))     # to take the mean of each col\n",
    "print(res_acc.std(axis=1))     # to take the std of\n",
    "\n",
    "list(res_acc.std(axis=1))"
   ]
  },
  {
   "cell_type": "code",
   "execution_count": null,
   "metadata": {},
   "outputs": [],
   "source": [
    "ind = np.arange(3)    # the x locations for the groups\n",
    "width = 0.2         # the width of the bars\n",
    "\n",
    "fig, ax = plt.subplots(figsize=(11,5))\n",
    "\n",
    "\n",
    "p1 = ax.bar(ind,list(res_acc.mean(axis=1)),yerr=list(res_acc.std(axis=1)), align='center',color='lightblue',ecolor='black',capsize=10)\n",
    "#ax.bar(x_pos, CTEs, yerr=error, align='center', alpha=0.5, ecolor='black', capsize=10)\n",
    "\n",
    "\n",
    "ax.set_xticks(ind)\n",
    "ax.set_xticklabels(['50','1000','5000'],rotation='horizontal')\n",
    "#ax.legend((p1[0], p2[0], p3[0],p4[0]), ('bloomfilter_50_20%', 'bloomfilter_50_40%','bloomfilter_50_70%','bloomfilter_50_100%'))\n",
    "ax.set_ylim([0,1])\n",
    "ax.set_ylabel('accuracy')\n",
    "ax.grid()\n",
    "plt.tight_layout()\n",
    "plt.savefig('../TestResults/pics/hitaccuracy_LSI.png',dpi=500)\n",
    "\n",
    "plt.show()"
   ]
  },
  {
   "cell_type": "code",
   "execution_count": null,
   "metadata": {},
   "outputs": [],
   "source": []
  }
 ],
 "metadata": {
  "kernelspec": {
   "display_name": "Python 3",
   "language": "python",
   "name": "python3"
  },
  "language_info": {
   "codemirror_mode": {
    "name": "ipython",
    "version": 3
   },
   "file_extension": ".py",
   "mimetype": "text/x-python",
   "name": "python",
   "nbconvert_exporter": "python",
   "pygments_lexer": "ipython3",
   "version": "3.6.5"
  }
 },
 "nbformat": 4,
 "nbformat_minor": 2
}
